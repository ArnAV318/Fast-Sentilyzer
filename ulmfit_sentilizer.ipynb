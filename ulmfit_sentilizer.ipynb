{
  "nbformat": 4,
  "nbformat_minor": 0,
  "metadata": {
    "colab": {
      "name": "ulmfit_sentilizer.ipynb",
      "provenance": []
    },
    "kernelspec": {
      "name": "python3",
      "display_name": "Python 3"
    },
    "accelerator": "GPU"
  },
  "cells": [
    {
      "cell_type": "code",
      "metadata": {
        "id": "EJkAvq5PG1jb",
        "colab_type": "code",
        "colab": {}
      },
      "source": [
        "!pip install -q kaggle\n"
      ],
      "execution_count": 0,
      "outputs": []
    },
    {
      "cell_type": "code",
      "metadata": {
        "id": "O-hzMUOkHkUN",
        "colab_type": "code",
        "outputId": "744c4a1a-61b0-4f5e-8baa-7efdde8e44a5",
        "colab": {
          "resources": {
            "http://localhost:8080/nbextensions/google.colab/files.js": {
              "data": "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",
              "ok": true,
              "headers": [
                [
                  "content-type",
                  "application/javascript"
                ]
              ],
              "status": 200,
              "status_text": ""
            }
          },
          "base_uri": "https://localhost:8080/",
          "height": 91
        }
      },
      "source": [
        "from google.colab import files\n",
        "files.upload()"
      ],
      "execution_count": 0,
      "outputs": [
        {
          "output_type": "display_data",
          "data": {
            "text/html": [
              "\n",
              "     <input type=\"file\" id=\"files-0ed5ba6f-915b-4d2c-88c4-6abc9ba8575a\" name=\"files[]\" multiple disabled />\n",
              "     <output id=\"result-0ed5ba6f-915b-4d2c-88c4-6abc9ba8575a\">\n",
              "      Upload widget is only available when the cell has been executed in the\n",
              "      current browser session. Please rerun this cell to enable.\n",
              "      </output>\n",
              "      <script src=\"/nbextensions/google.colab/files.js\"></script> "
            ],
            "text/plain": [
              "<IPython.core.display.HTML object>"
            ]
          },
          "metadata": {
            "tags": []
          }
        },
        {
          "output_type": "stream",
          "text": [
            "Saving kaggle.json to kaggle.json\n"
          ],
          "name": "stdout"
        },
        {
          "output_type": "execute_result",
          "data": {
            "text/plain": [
              "{'kaggle.json': b'{\"username\":\"codotron\",\"key\":\"4bda5f6cdea9c1b44066cecd6f7d4f43\"}'}"
            ]
          },
          "metadata": {
            "tags": []
          },
          "execution_count": 2
        }
      ]
    },
    {
      "cell_type": "code",
      "metadata": {
        "id": "lRomB0_GHpsB",
        "colab_type": "code",
        "colab": {}
      },
      "source": [
        "!mkdir ~/.kaggle"
      ],
      "execution_count": 0,
      "outputs": []
    },
    {
      "cell_type": "code",
      "metadata": {
        "id": "KJRBMeb_H1rx",
        "colab_type": "code",
        "colab": {}
      },
      "source": [
        "!cp kaggle.json ~/.kaggle/"
      ],
      "execution_count": 0,
      "outputs": []
    },
    {
      "cell_type": "code",
      "metadata": {
        "id": "ZUnv30SWH_MH",
        "colab_type": "code",
        "outputId": "f6fdc295-4da9-446c-b044-890dd38208c2",
        "colab": {
          "base_uri": "https://localhost:8080/",
          "height": 71
        }
      },
      "source": [
        "!kaggle config set -n path -v{/content}"
      ],
      "execution_count": 0,
      "outputs": [
        {
          "output_type": "stream",
          "text": [
            "Warning: Your Kaggle API key is readable by other users on this system! To fix this, you can run 'chmod 600 /root/.kaggle/kaggle.json'\n",
            "- path is now set to: {/content}\n"
          ],
          "name": "stdout"
        }
      ]
    },
    {
      "cell_type": "code",
      "metadata": {
        "id": "k7eFO2GwIEZy",
        "colab_type": "code",
        "colab": {}
      },
      "source": [
        "! chmod 600 ~/.kaggle/kaggle.json"
      ],
      "execution_count": 0,
      "outputs": []
    },
    {
      "cell_type": "code",
      "metadata": {
        "id": "QIYZMPZfIKPw",
        "colab_type": "code",
        "outputId": "0af9a457-df20-4114-b70f-e49161a0e249",
        "colab": {
          "base_uri": "https://localhost:8080/",
          "height": 68
        }
      },
      "source": [
        "!kaggle datasets download -d lakshmi25npathi/imdb-dataset-of-50k-movie-reviews -p /content"
      ],
      "execution_count": 0,
      "outputs": [
        {
          "output_type": "stream",
          "text": [
            "Downloading imdb-dataset-of-50k-movie-reviews.zip to /content\n",
            "\r  0% 0.00/25.7M [00:00<?, ?B/s]\r 19% 5.00M/25.7M [00:00<00:00, 37.9MB/s]\r 35% 9.00M/25.7M [00:00<00:00, 31.6MB/s]\n",
            "\r100% 25.7M/25.7M [00:00<00:00, 64.2MB/s]\n"
          ],
          "name": "stdout"
        }
      ]
    },
    {
      "cell_type": "code",
      "metadata": {
        "id": "xnG3Bc-UIQY-",
        "colab_type": "code",
        "outputId": "94dedd72-c85a-4868-e814-638f659089a9",
        "colab": {
          "base_uri": "https://localhost:8080/",
          "height": 51
        }
      },
      "source": [
        "!unzip imdb-dataset-of-50k-movie-reviews.zip"
      ],
      "execution_count": 0,
      "outputs": [
        {
          "output_type": "stream",
          "text": [
            "Archive:  imdb-dataset-of-50k-movie-reviews.zip\n",
            "  inflating: IMDB Dataset.csv        \n"
          ],
          "name": "stdout"
        }
      ]
    },
    {
      "cell_type": "code",
      "metadata": {
        "id": "BXvdk--rISZL",
        "colab_type": "code",
        "outputId": "a558c9ac-872c-420d-dfcf-bf933f7bc3d6",
        "colab": {
          "base_uri": "https://localhost:8080/",
          "height": 204
        }
      },
      "source": [
        "import pandas as pd\n",
        "\n",
        "df_imdb = pd.read_csv('IMDB Dataset.csv')\n",
        "df_imdb.head()"
      ],
      "execution_count": 0,
      "outputs": [
        {
          "output_type": "execute_result",
          "data": {
            "text/html": [
              "<div>\n",
              "<style scoped>\n",
              "    .dataframe tbody tr th:only-of-type {\n",
              "        vertical-align: middle;\n",
              "    }\n",
              "\n",
              "    .dataframe tbody tr th {\n",
              "        vertical-align: top;\n",
              "    }\n",
              "\n",
              "    .dataframe thead th {\n",
              "        text-align: right;\n",
              "    }\n",
              "</style>\n",
              "<table border=\"1\" class=\"dataframe\">\n",
              "  <thead>\n",
              "    <tr style=\"text-align: right;\">\n",
              "      <th></th>\n",
              "      <th>review</th>\n",
              "      <th>sentiment</th>\n",
              "    </tr>\n",
              "  </thead>\n",
              "  <tbody>\n",
              "    <tr>\n",
              "      <th>0</th>\n",
              "      <td>One of the other reviewers has mentioned that ...</td>\n",
              "      <td>positive</td>\n",
              "    </tr>\n",
              "    <tr>\n",
              "      <th>1</th>\n",
              "      <td>A wonderful little production. &lt;br /&gt;&lt;br /&gt;The...</td>\n",
              "      <td>positive</td>\n",
              "    </tr>\n",
              "    <tr>\n",
              "      <th>2</th>\n",
              "      <td>I thought this was a wonderful way to spend ti...</td>\n",
              "      <td>positive</td>\n",
              "    </tr>\n",
              "    <tr>\n",
              "      <th>3</th>\n",
              "      <td>Basically there's a family where a little boy ...</td>\n",
              "      <td>negative</td>\n",
              "    </tr>\n",
              "    <tr>\n",
              "      <th>4</th>\n",
              "      <td>Petter Mattei's \"Love in the Time of Money\" is...</td>\n",
              "      <td>positive</td>\n",
              "    </tr>\n",
              "  </tbody>\n",
              "</table>\n",
              "</div>"
            ],
            "text/plain": [
              "                                              review sentiment\n",
              "0  One of the other reviewers has mentioned that ...  positive\n",
              "1  A wonderful little production. <br /><br />The...  positive\n",
              "2  I thought this was a wonderful way to spend ti...  positive\n",
              "3  Basically there's a family where a little boy ...  negative\n",
              "4  Petter Mattei's \"Love in the Time of Money\" is...  positive"
            ]
          },
          "metadata": {
            "tags": []
          },
          "execution_count": 9
        }
      ]
    },
    {
      "cell_type": "code",
      "metadata": {
        "id": "qB6rTxChIY9N",
        "colab_type": "code",
        "colab": {}
      },
      "source": [
        "trn_texts = df_imdb.loc[10000:14999, 'review'].values\n",
        "trn_labels = df_imdb.loc[10000:14999, 'sentiment'].values\n",
        "val_texts = df_imdb.loc[36000:38999, 'review'].values\n",
        "val_labels = df_imdb.loc[36000:38999, 'sentiment'].values"
      ],
      "execution_count": 0,
      "outputs": []
    },
    {
      "cell_type": "code",
      "metadata": {
        "id": "01_H1KKGIgsz",
        "colab_type": "code",
        "colab": {}
      },
      "source": [
        "import numpy as np\n",
        "\n",
        "np.random.seed(42)\n",
        "trn_idx = np.random.permutation(len(trn_texts))\n",
        "val_idx = np.random.permutation(len(val_texts))"
      ],
      "execution_count": 0,
      "outputs": []
    },
    {
      "cell_type": "code",
      "metadata": {
        "id": "l-C6yJuMIpIw",
        "colab_type": "code",
        "colab": {}
      },
      "source": [
        "trn_texts = trn_texts[trn_idx]\n",
        "val_texts = val_texts[val_idx]\n",
        "\n",
        "trn_labels = trn_labels[trn_idx]\n",
        "val_labels = val_labels[val_idx]\n",
        "\n",
        "col_names = ['labels','text']\n",
        "df_trn = pd.DataFrame({'text':trn_texts, 'labels':trn_labels}, columns=col_names)\n",
        "df_val = pd.DataFrame({'text':val_texts, 'labels':val_labels}, columns=col_names)"
      ],
      "execution_count": 0,
      "outputs": []
    },
    {
      "cell_type": "code",
      "metadata": {
        "id": "MBphsXXsIxpk",
        "colab_type": "code",
        "outputId": "66e6dacc-adfc-4356-eb2d-0ea8be3d48d1",
        "colab": {
          "base_uri": "https://localhost:8080/",
          "height": 17
        }
      },
      "source": [
        "from fastai import *\n",
        "from fastai.text import *\n",
        "\n",
        "data_lm = TextLMDataBunch.from_df('./', train_df=df_trn, valid_df=df_val)"
      ],
      "execution_count": 0,
      "outputs": [
        {
          "output_type": "display_data",
          "data": {
            "text/html": [
              ""
            ],
            "text/plain": [
              "<IPython.core.display.HTML object>"
            ]
          },
          "metadata": {
            "tags": []
          }
        },
        {
          "output_type": "display_data",
          "data": {
            "text/html": [
              ""
            ],
            "text/plain": [
              "<IPython.core.display.HTML object>"
            ]
          },
          "metadata": {
            "tags": []
          }
        }
      ]
    },
    {
      "cell_type": "code",
      "metadata": {
        "id": "za1OeF71I3xX",
        "colab_type": "code",
        "outputId": "c85faa05-8cff-4fc0-d71e-d59ed748a26d",
        "colab": {
          "base_uri": "https://localhost:8080/",
          "height": 374
        }
      },
      "source": [
        "data_lm.show_batch()"
      ],
      "execution_count": 0,
      "outputs": [
        {
          "output_type": "display_data",
          "data": {
            "text/html": [
              "<table border=\"1\" class=\"dataframe\">\n",
              "  <thead>\n",
              "    <tr style=\"text-align: right;\">\n",
              "      <th>idx</th>\n",
              "      <th>text</th>\n",
              "    </tr>\n",
              "  </thead>\n",
              "  <tbody>\n",
              "    <tr>\n",
              "      <td>0</td>\n",
              "      <td>) is desperate to move east , and to see him selling his spread to xxmaj lee xxmaj wilkison ( xxmaj edward xxup g. xxmaj robinson ) . \\n \\n  xxmaj parrish is not even much of a xxunk   but he do understand that there is something big building up in the valley   xxmaj in the xxmaj army , they used to call it '</td>\n",
              "    </tr>\n",
              "    <tr>\n",
              "      <td>1</td>\n",
              "      <td>have a short walk - on role . xxmaj but somehow they manage to keep xxmaj morgan xxmaj freeman as xxmaj god . xxmaj while sitting in the near empty theater bored out of my mind at the lack of comedy i could n't help but wonder how much money it took to secure xxmaj freeman for this film . xxmaj then it hit me an hour ago . xxmaj</td>\n",
              "    </tr>\n",
              "    <tr>\n",
              "      <td>2</td>\n",
              "      <td>'s supremely well done and captivating viewing throughout : the best film from this director that i 've seen , and among the very best of its genre . xxbos xxmaj here 's why this movie fell very short of its xxunk do n't read much , so i do n't care xxup what the novel was like ) . 1 . i think xxmaj brendan xxmaj frasier copied his</td>\n",
              "    </tr>\n",
              "    <tr>\n",
              "      <td>3</td>\n",
              "      <td>'s a shame , because there was a lot of talent , both musically and otherwise , in xxmaj the xxmaj monkees . xxmaj it 's probably odder that xxmaj rafelson , who directs here and co - produces with xxmaj schneider , and xxmaj jack xxmaj nicholson ( yes , _ that _ xxmaj jack xxmaj nicholson ) , who wrote the script and also co - produces ,</td>\n",
              "    </tr>\n",
              "    <tr>\n",
              "      <td>4</td>\n",
              "      <td>again . xxmaj only after you see the closing credits do you get an idea of who is who . xxmaj after you know that you can watch it again with renewed appreciation . xxmaj do n't listen to the people that tear this movie apart . xxmaj it 's not for everyone . xxmaj if you 're someone that does n't like reading subtitles than this movie is n't</td>\n",
              "    </tr>\n",
              "  </tbody>\n",
              "</table>"
            ],
            "text/plain": [
              "<IPython.core.display.HTML object>"
            ]
          },
          "metadata": {
            "tags": []
          }
        }
      ]
    },
    {
      "cell_type": "code",
      "metadata": {
        "id": "QQtttDOMJBXh",
        "colab_type": "code",
        "outputId": "4aded166-4215-4f48-a094-fc1cf34f7ac1",
        "colab": {
          "base_uri": "https://localhost:8080/",
          "height": 34
        }
      },
      "source": [
        "data_lm.train_ds[0][0].data[:10]"
      ],
      "execution_count": 0,
      "outputs": [
        {
          "output_type": "execute_result",
          "data": {
            "text/plain": [
              "array([   2,   22,    5,    9,    5, 1159,    5,  371,   22, 5027])"
            ]
          },
          "metadata": {
            "tags": []
          },
          "execution_count": 15
        }
      ]
    },
    {
      "cell_type": "code",
      "metadata": {
        "id": "OEZ66B3vJLG9",
        "colab_type": "code",
        "colab": {}
      },
      "source": [
        "import os\n",
        "#os.chdir('./drive/My Drive/Colab Notebooks/')\n",
        "\n",
        "\n",
        "data_lm.save('tmp_lm')\n",
        "\n",
        "#data_lm = TextClasDataBunch.load('./', 'tmp_lm')"
      ],
      "execution_count": 0,
      "outputs": []
    },
    {
      "cell_type": "code",
      "metadata": {
        "id": "nv_1EvAQJTNa",
        "colab_type": "code",
        "outputId": "1fe5748f-7a0b-4014-afe8-9326aa2f2f97",
        "colab": {
          "base_uri": "https://localhost:8080/",
          "height": 34
        }
      },
      "source": [
        "learner = language_model_learner(data_lm, AWD_LSTM, drop_mult=0.5)"
      ],
      "execution_count": 0,
      "outputs": [
        {
          "output_type": "stream",
          "text": [
            "Downloading https://s3.amazonaws.com/fast-ai-modelzoo/wt103-fwd.tgz\n"
          ],
          "name": "stdout"
        },
        {
          "output_type": "display_data",
          "data": {
            "text/html": [
              ""
            ],
            "text/plain": [
              "<IPython.core.display.HTML object>"
            ]
          },
          "metadata": {
            "tags": []
          }
        }
      ]
    },
    {
      "cell_type": "code",
      "metadata": {
        "id": "1EjgBwJlJbhi",
        "colab_type": "code",
        "outputId": "7719216f-47dc-4b41-ed7b-30729f123f7b",
        "colab": {
          "base_uri": "https://localhost:8080/",
          "height": 112
        }
      },
      "source": [
        "learner.lr_find()"
      ],
      "execution_count": 0,
      "outputs": [
        {
          "output_type": "display_data",
          "data": {
            "text/html": [
              "\n",
              "    <div>\n",
              "        <style>\n",
              "            /* Turns off some styling */\n",
              "            progress {\n",
              "                /* gets rid of default border in Firefox and Opera. */\n",
              "                border: none;\n",
              "                /* Needs to be in here for Safari polyfill so background images work as expected. */\n",
              "                background-size: auto;\n",
              "            }\n",
              "            .progress-bar-interrupted, .progress-bar-interrupted::-webkit-progress-bar {\n",
              "                background: #F44336;\n",
              "            }\n",
              "        </style>\n",
              "      <progress value='0' class='' max='1' style='width:300px; height:20px; vertical-align: middle;'></progress>\n",
              "      0.00% [0/1 00:00<00:00]\n",
              "    </div>\n",
              "    \n",
              "<table border=\"1\" class=\"dataframe\">\n",
              "  <thead>\n",
              "    <tr style=\"text-align: left;\">\n",
              "      <th>epoch</th>\n",
              "      <th>train_loss</th>\n",
              "      <th>valid_loss</th>\n",
              "      <th>accuracy</th>\n",
              "      <th>time</th>\n",
              "    </tr>\n",
              "  </thead>\n",
              "  <tbody>\n",
              "  </tbody>\n",
              "</table><p>\n",
              "\n",
              "    <div>\n",
              "        <style>\n",
              "            /* Turns off some styling */\n",
              "            progress {\n",
              "                /* gets rid of default border in Firefox and Opera. */\n",
              "                border: none;\n",
              "                /* Needs to be in here for Safari polyfill so background images work as expected. */\n",
              "                background-size: auto;\n",
              "            }\n",
              "            .progress-bar-interrupted, .progress-bar-interrupted::-webkit-progress-bar {\n",
              "                background: #F44336;\n",
              "            }\n",
              "        </style>\n",
              "      <progress value='99' class='' max='336' style='width:300px; height:20px; vertical-align: middle;'></progress>\n",
              "      29.46% [99/336 00:42<01:42 11.0179]\n",
              "    </div>\n",
              "    "
            ],
            "text/plain": [
              "<IPython.core.display.HTML object>"
            ]
          },
          "metadata": {
            "tags": []
          }
        },
        {
          "output_type": "stream",
          "text": [
            "LR Finder is complete, type {learner_name}.recorder.plot() to see the graph.\n"
          ],
          "name": "stdout"
        }
      ]
    },
    {
      "cell_type": "code",
      "metadata": {
        "id": "pNKcykMrQDm1",
        "colab_type": "code",
        "outputId": "76d91cdc-b057-4275-ff0f-80d576d58777",
        "colab": {
          "base_uri": "https://localhost:8080/",
          "height": 279
        }
      },
      "source": [
        "learner.recorder.plot()"
      ],
      "execution_count": 0,
      "outputs": [
        {
          "output_type": "display_data",
          "data": {
            "image/png": "[encoded data removed]",
            "text/plain": [
              "<Figure size 432x288 with 1 Axes>"
            ]
          },
          "metadata": {
            "tags": [],
            "needs_background": "light"
          }
        }
      ]
    },
    {
      "cell_type": "code",
      "metadata": {
        "id": "DVhxQK7pQMrV",
        "colab_type": "code",
        "outputId": "da3e74d2-6c56-4395-b16d-baf49891c190",
        "colab": {
          "base_uri": "https://localhost:8080/",
          "height": 80
        }
      },
      "source": [
        "learner.unfreeze()\n",
        "learner.fit_one_cycle(1, 1e-3)"
      ],
      "execution_count": 0,
      "outputs": [
        {
          "output_type": "display_data",
          "data": {
            "text/html": [
              "<table border=\"1\" class=\"dataframe\">\n",
              "  <thead>\n",
              "    <tr style=\"text-align: left;\">\n",
              "      <th>epoch</th>\n",
              "      <th>train_loss</th>\n",
              "      <th>valid_loss</th>\n",
              "      <th>accuracy</th>\n",
              "      <th>time</th>\n",
              "    </tr>\n",
              "  </thead>\n",
              "  <tbody>\n",
              "    <tr>\n",
              "      <td>0</td>\n",
              "      <td>4.195406</td>\n",
              "      <td>3.983962</td>\n",
              "      <td>0.294724</td>\n",
              "      <td>03:36</td>\n",
              "    </tr>\n",
              "  </tbody>\n",
              "</table>"
            ],
            "text/plain": [
              "<IPython.core.display.HTML object>"
            ]
          },
          "metadata": {
            "tags": []
          }
        }
      ]
    },
    {
      "cell_type": "code",
      "metadata": {
        "id": "fXqh29gBkFaI",
        "colab_type": "code",
        "outputId": "8cf491e6-5dab-4ad5-a75c-bfe5719136cb",
        "colab": {
          "base_uri": "https://localhost:8080/",
          "height": 34
        }
      },
      "source": [
        "learner.predict(\"This is a review about\", n_words=10)"
      ],
      "execution_count": 0,
      "outputs": [
        {
          "output_type": "execute_result",
          "data": {
            "text/plain": [
              "'This is a review about NOOKIE : CARES VERY TALE ,'"
            ]
          },
          "metadata": {
            "tags": []
          },
          "execution_count": 21
        }
      ]
    },
    {
      "cell_type": "code",
      "metadata": {
        "id": "i_he-VVKruNw",
        "colab_type": "code",
        "colab": {}
      },
      "source": [
        "learner.save_encoder('fine_enc')"
      ],
      "execution_count": 0,
      "outputs": []
    },
    {
      "cell_type": "code",
      "metadata": {
        "id": "UEIDBBzCr1Gw",
        "colab_type": "code",
        "outputId": "07fd4612-9c1a-4a0e-bbcc-a8d226012804",
        "colab": {
          "base_uri": "https://localhost:8080/",
          "height": 17
        }
      },
      "source": [
        "data_clas = TextClasDataBunch.from_df('./', train_df=df_trn, valid_df=df_val, vocab=data_lm.train_ds.vocab, bs=32)"
      ],
      "execution_count": 0,
      "outputs": [
        {
          "output_type": "display_data",
          "data": {
            "text/html": [
              ""
            ],
            "text/plain": [
              "<IPython.core.display.HTML object>"
            ]
          },
          "metadata": {
            "tags": []
          }
        },
        {
          "output_type": "display_data",
          "data": {
            "text/html": [
              ""
            ],
            "text/plain": [
              "<IPython.core.display.HTML object>"
            ]
          },
          "metadata": {
            "tags": []
          }
        }
      ]
    },
    {
      "cell_type": "code",
      "metadata": {
        "id": "zQG3bU3KsTnS",
        "colab_type": "code",
        "outputId": "6c7e7f1c-67a5-4c6e-c319-23bbc70ee216",
        "colab": {
          "base_uri": "https://localhost:8080/",
          "height": 1000
        }
      },
      "source": [
        "classifier = text_classifier_learner(data_clas, AWD_LSTM,drop_mult=0.5)\n",
        "classifier.load_encoder('fine_enc')"
      ],
      "execution_count": 0,
      "outputs": [
        {
          "output_type": "execute_result",
          "data": {
            "text/plain": [
              "RNNLearner(data=TextClasDataBunch;\n",
              "\n",
              "Train: LabelList (5000 items)\n",
              "x: TextList\n",
              "xxbos \" xxmaj the xxmaj violent xxmaj men \" marked the finest collaboration of xxmaj rudolph xxmaj xxunk with xxmaj glenn xxmaj ford in an intensely satisfying drama of rugged primitive justice \n",
              " \n",
              " \n",
              "  xxmaj ford is xxmaj john xxmaj parrish , a former xxmaj cavalry captain who is xxunk to get married and start a new life \n",
              "  xxmaj his fiancée xxmaj caroline xxmaj xxunk ( xxmaj may xxmaj wynn ) is desperate to move east , and to see him selling his spread to xxmaj lee xxmaj wilkison ( xxmaj edward xxup g. xxmaj robinson ) . \n",
              " \n",
              "  xxmaj parrish is not even much of a xxunk \n",
              "  but he do understand that there is something big building up in the valley \n",
              "  xxmaj in the xxmaj army , they used to call it ' enemy pressure . ' xxmaj first , xxmaj cole xxmaj wilkison ( xxmaj brian xxmaj keith ) comes back from xxmaj texas to help his brother run xxmaj anchor \n",
              "  xxmaj then a tough kid with a fancy gun ( xxmaj richard xxmaj jaeckel ) shows up on the xxmaj wilkison payroll \n",
              "  xxmaj then all the small ranchers are forced out , getting the same kind of offers \n",
              "  xxmaj parrish saw himself either running like they did , or stand and fight \n",
              " \n",
              " \n",
              "  xxmaj but can he easily deals with a man who sends six killers to shoot an old man in the back ? xxmaj can he easily argues with a man who started with a few acres of land and now owns practically the whole valley ? \n",
              " \n",
              "  xxmaj all that grass and sand ever meant to the ex - xxmaj confederate xxmaj army officer the past three years \n",
              "  xxmaj it was a place to regain his health \n",
              "  xxmaj out of habit of taking advice , xxmaj parrish xxunk : \" xxmaj what happen in this valley is no concern of mine . \" xxmaj and much to the disappointment of the remaining ranchers and farmers , who pressure him to stay on , he decides to accept xxmaj wilkison 's offer to fulfill the promise he made to his fiancée \n",
              " \n",
              " \n",
              "  xxmaj when xxmaj lee 's younger brother xxmaj cole made the wrong move , trying to push xxmaj parrish make up his mind by lynching one of his ranch hands , xxmaj parrish got mad and warns the two brothers that he is going to stay and will fight them for the privilege of being let alone \n",
              " \n",
              " \n",
              "  xxmaj brian xxmaj keith plays the traitorous brother who 's behind the killing ... xxmaj he dreams to have position and respect in running one day xxmaj anchor \n",
              " \n",
              " \n",
              "  xxmaj lee 's ambitious wife xxmaj martha ( xxmaj barbara xxmaj stanwyck ) secretly hates herself and her husband \n",
              "  xxmaj stanwyck plays the part of a loving wife who ca n't bear the touch of her husband 's hands \n",
              " \n",
              " \n",
              "  xxmaj edward xxup g. xxmaj robinson is good enough as the xxmaj anchor 's crippled owner who promised the whole valley to his wife , unaware that she is having an affair with his younger brother \n",
              " \n",
              " \n",
              "  xxmaj dianne xxmaj foster is too sensitive as the xxunk adult daughter well aware of her mother 's burdens \n",
              " \n",
              " \n",
              "  \" xxmaj the xxmaj violent xxmaj men \" uses the wide - screen technology to emphasize the scope and power of this harrowing action - drama , making it a perfect example of the genre 's most enduring classics \n",
              ",xxbos xxmaj plants in an ancient xxmaj mayan pyramid structure killing all who come close . xxmaj yes it is weird , as the travelers do not figure it out until everything starts doing crazy . xxmaj and in a movie like this , i just wished it went absurd and had marching bands being attacked by plants wielding xxunk . \n",
              " \n",
              "  xxmaj anyway , a group of people from xxmaj america vacation and go into the mountains with a couple of other newly made xxmaj german friends who know about the place . xxmaj when they get there , xxmaj mayans began shouting at them and hide on the structure . xxmaj and when there , that s when the plants decide to take them out , mimicking cell phone noises , humans , and ancient xxmaj mayan dead people . \n",
              " \n",
              "  xxmaj nothing was really scary about the movie and was not even entertaining . xxmaj not even the weird ending could save this piece of crap . i kept looking for something really good to happen , but nothing . xxmaj oh well . \" f \",xxbos xxmaj true , there are many movies much worse then this movie . xxmaj this movie was no xxmaj manos : xxmaj the xxmaj hands of xxmaj fate , or xxmaj troll 2 ( yes , i have seen them both .. twice ) but at the same time this movie is xxmaj no xxmaj alien , xxmaj predator or even xxmaj alien xxmaj vs . xxmaj predator ( xxmaj yes , even that movie surpassed this ) . xxmaj movies like this make xxmaj battlefield xxmaj earth look like a xxmaj star xxmaj wars it is so bad . xxmaj razzie awards lookout , your biggest competition has just arrived in theaters . xxmaj this film i 'm talking about is of course xxmaj alone in the xxmaj dark . i 'll try to take you though a step by step process on why this film was so bad . \n",
              " \n",
              "  xxmaj acting- i 'll first start off with what perhaps was the best xxunk of this film ( next to the ending credits , which played ' xxmaj wish i had xxmaj an xxmaj angel ' , the acting . xxmaj christian xxmaj slater must be proud of himself , he successfully proved that it is possible to act decent in a film worse then drinking xxunk . xxmaj though all his awful dialog he had to speak , it made me wonder why he just did n't walk off the set halfway . xxmaj perhaps it was because of xxmaj stephen xxmaj dorff being in the film as well ( somebody he wishes he could be but fails at it ) . xxmaj tara xxmaj reid is a bad actress but good looking and that 's all that really matters in films like these . xxmaj that is not to say the acting was perfect though , it was average , not good , and perhaps the only thing in the film not good . \n",
              " \n",
              "  xxmaj the xxmaj xxunk xxmaj except for ' xxmaj wish i had xxmaj an xxmaj angel ' , the soundtrack is pointless and bad heavy medal being pumped into the viewers ears , perhaps to disguise the awful story ( something i will get to soon ) . a long and very expensive 2 xxup cd soundtrack is now up for sale for those musically challenged . \n",
              " \n",
              "  xxmaj the xxmaj xxunk xxmaj directed by xxmaj hollywoods favorite director xxmaj uwe xxmaj ball who brought us the classic xxmaj house of the xxmaj dead . xxmaj telling us \" xxmaj yes , movies can get this utterly bad and that 's just the beginning to my deadly saga of awful movies \" . xxmaj at least it is said to be directed by xxmaj uwe xxmaj ball . xxmaj without being told i would have guessed a monkey was kidnapped from the xxmaj congo , brought here and forced to make opinions on how to make the movie under penalty of being shocked . xxmaj the director of photography was probably a camcorder taped onto a skateboard and pushed forward until it hits a wall . xxmaj on the scenes where the camera should stay still it is constantly moving , not allowing us to stop anywhere and when it should be moving in action , the camera stops for some reason . \n",
              " \n",
              "  xxmaj the xxmaj xxunk xxmaj who on earth is stupid enough to put money towards this bomb ? i pity the fool ... sometimes . xxmaj sometimes i 'm glad he or she was taught such a lesson to never put money towards garbage worse then dog dung tied up in a bag . \n",
              " \n",
              "  xxmaj the xxmaj writing / xxmaj xxunk xxmaj trying to xxmaj xxunk the story is more painful then jamming an ice pick under a big toe and kicking a soccer ball as hard as i possibly could with it right after but i will still attempt it . \n",
              " \n",
              "  xxmaj edward xxmaj carnby escapes as a child from an orphanage where 20 children where to go under science experiments . xxmaj he escapes and hides in an electrical outlet where he is electrocuted ( this is the point where it got so bad i started to laugh out loud ) . xxmaj then it fast - forwards many years later where he 's a paranoia detective . xxmaj he get 's attacked by some zombie that ca n't be shot to death , kills it and moves on with life . xxmaj later on he gets attacked by some crazy looking monster and he discovers secrets that nobody else knows . \n",
              " \n",
              "  xxmaj yeah , the plot is bad , really really bad . xxmaj the film beings with expecting us to read approximately 10 minutes , which felt like 100 , of random text about an untrue civilization called the xxmaj xxunk . xxmaj the film goes not to have one twist after another , more then the audience can handle , more then the audience wants to handle , more then the audience could ever care about . xxmaj this storyline is rock bottom bad that even xxmaj double xxmaj dragon does better . \n",
              " \n",
              "  xxmaj overall , miss out on this movie . i gave it a 1 out of 10 but that is because there is no 0 .,xxbos xxmaj geoffrey xxmaj wright , the director of \" xxmaj romper xxmaj stomper \" , transplants xxmaj shakespeare 's \" xxmaj macbeth \" in the contemporary , criminal underworld of xxmaj melbourne , xxmaj australia . xxmaj the result is a semi - awful piece of cinema . xxmaj sam xxmaj xxunk is xxmaj macbeth , and walks around looking very self - conscious and bored . xxmaj victoria xxmaj hill , who wrote the script with xxmaj wright , is xxmaj lady xxmaj macbeth , and she 's neither awful nor good . xxmaj xxunk xxmaj xxunk , who plays xxunk , is the only actor in the cast who exudes any kind of authority . xxmaj the rest , including xxmaj gary xxmaj sweet , are wasted and misdirected . xxmaj shot on xxup hd by the late xxmaj will xxmaj gibson , the movie 's visuals lack character . xxmaj everything is too clean and too deliberately lit . xxmaj wright 's direction is uninspired in the extreme and the action sequences are confusing and inept . xxmaj marketed xxunk as \" the most violent xxmaj australia movie ever \" , the film is violent at times and reasonably bloody , but it fails to deliver a single impactful moment . xxmaj slow moving and terribly pretentious , this umpteenth silver screen version of the classic play is the personification of wrong - headed .,xxbos xxmaj putting the xxup ufo \" thing \" aside . xxmaj this was the best documentary i 've seen . xxmaj factual reporting by xxmaj neil and xxmaj buzz ... a must see . xxmaj the interviews and reporting are a revelation since most of the information was stamped confidential in 1969 and only released in 2006 . xxmaj no documentary to date has the detail or accuracy for such a brief 47 minutes ... xxmaj the xxup facts will blow you away , and you will be left in awe of the risks taken to be the first on the moon ... xxmaj neil and xxmaj buzz are probably the biggest hero 's of our time . xxmaj ever see a man save his own life ? xxmaj bet not . xxmaj neil saves his life when only mili - seconds separated him from death . xxmaj amazing to watch . xxmaj it is a travesty people have not known all the details xxunk with landing on the moon and the courage those men had when facing certain death , from a failing computer ... 10 stars !\n",
              "y: CategoryList\n",
              "positive,negative,negative,negative,positive\n",
              "Path: .;\n",
              "\n",
              "Valid: LabelList (3000 items)\n",
              "x: TextList\n",
              "xxbos i must admit a slight disappointment with this film ; i had read a lot about how spectacular it was , yet the actual futuristic sequences , the xxmaj age of xxmaj science , take up a very small amount of the film . xxmaj the sets and are excellent when we get to them , and there are some startling images , but this final sequence is lacking in too many other regards ... \n",
              " \n",
              "  xxmaj much the best drama of the piece is in the mid - section , and then it plays as melodrama , arising from the ' high concept ' science - fiction nature of it all , and xxunk robust dialogue . xxmaj there is far more human life in this part though , with the great xxmaj ralph xxmaj richardson sailing gloriously over - the - top as the small dictator , the \" xxmaj boss \" of the xxmaj xxunk . i loved xxmaj richardson 's mannerisms and curt delivery of lines , xxunk the presence and ideas of xxmaj raymond xxmaj massey 's aloof , confident visitor . xxmaj this xxmaj boss is a posturing , convincingly deluded figure , unable to realise the small - fry nature of his kingdom ... xxmaj it 's not a great role , yet xxmaj richardson makes a lot of it . \n",
              " \n",
              "  xxmaj xxunk itself is presumably meant to be xxmaj england , or at least an xxmaj english town fairly representative of xxmaj england . xxmaj interesting was the complete xxunk of any religious side to things ; the ' things to come ' seem to revolve around a conflict between xxunk xxunk and a a faith in science that seems to have little ultimate goal , but to just go on and on . xxmaj there is a belated attempt to raise some arguments and tensions in the last section , concerning more personal ' life ' , yet one is left quite unsatisfied . xxmaj the film has n't got much interest in subtle complexities ; it goes for xxunk spectacle and unsubtle , blunt xxunk , every time . xxmaj and , of course , recall the xxunk - bet finale : xxmaj raymond xxmaj massey xxunk lyrical about how uncertain things are ! \n",
              " \n",
              "  xxmaj concerning the question of the film being a xxunk : i must say it 's not at all bad as such , considering that one obviously allows that it is impossible to gets the details of life anything like right . xxmaj the xxunk xxunk have something to them ; a war in 1940 , well that was perhaps predictable ... xxmaj lasting nearly 30 years , mind ! ? a nuclear bomb - the \" super gun \" or some such xxunk - in 2036 ... a xxunk socialist \" we do n't believe in independent nation xxunk government , in xxmaj britain , after 1970 ... xxmaj hmmm , sadly nowhere near on that one , chaps ! ;-) xxmaj no real politics are gone into here which is a shame ; all that surfaces is a very laudable anti - war sentiment . xxmaj generally , it is assumed that dictatorship - whether xxunk - xxunk - fascist , as under the xxmaj boss , or all - hands - to - the - pump scientific socialism - will * be the deal * , and these implications are not xxunk ... xxmaj while we must remember that in 1936 , there was no knowledge at all of how xxmaj nazism and xxmaj communism would turn out - or even how they were turning out - the lack of consideration of this seems xxunk beside the scope of the filmmakers ' vision on other matters . \n",
              " \n",
              "  xxmaj much of the earlier stuff should - and could - have been cut in my opinion ; only the briefest stuff from ' 1940 ' would have been necessary , yet this segment tends to get rather ponderous , and it is ages before we get to the xxmaj richardson - xxmaj massey parts . i would have liked to have seen more done with xxmaj xxunk xxmaj scott ; who is just a trifle sceptical , cutting a flashing - eyed xxmaj mediterranean figure to negligible purpose . xxmaj the character is not explored , or frankly explained or exploited , except for one scene which i shall not spoil , and her relationship with the xxmaj boss is n't explored ; but then this was the 1930s , and there was such a thing as widespread xxunk censorship back then . xxmaj edward xxmaj chapman is mildly amusing in his two roles ; more so in the first as a hapless chap , praying for war , only to be bluntly put down by another xxmaj massey character . xxmaj massey himself helps things a lot , playing his parts with a mixture of restraint and sombre gusto , contrasting well with a largely xxunk cast , save for xxmaj richardson , and xxmaj scott and xxmaj chapman , slightly . \n",
              " \n",
              "  i would say that \" xxmaj things to xxmaj come \" is undoubtedly a very extraordinary film to have been made in xxmaj britain in 1936 ; one of the few serious xxmaj british science fiction films to date , indeed ! xxmaj its set ( piece ) design and xxunk of resources are ravenous , marvellous . \n",
              " \n",
              "  xxmaj yet , the script is ultimately over - earnest and , at times , all over the place . xxmaj the direction is prone to a xxunk , though it does step up a scenic gear or two upon occasion . xxmaj the cinematographer and xxmaj mr xxmaj richardson really do salvage things however ; respectively creating an awed sense of wonder at technology , and an engaging , jerky performance that consistently xxunk . xxmaj such a shame there is so little substance or real filmic conception to the whole thing ; xxmaj powell and xxmaj xxunk would have been the perfect directors to take on such a task as this - they are without peer among xxmaj british directors as daring visual xxunk , great xxunk of characters and dealers in dialogue of the first rate . \n",
              " \n",
              "  \" xxmaj things to xxmaj come \" , as it stands , is an intriguing oddity , well worth perusing , yet far short of a \" xxmaj metropolis \" ... ' xxmaj xxunk much as \" silly \" , in xxmaj wells ' words , as that xxmaj lang film , yet with nothing like the astonishing force of it .,xxbos i xxup loved this flick when it came out in the 80 's and still do ! i still quote classic lines like \" say it again \" and \" you said you 'd rip my balls off sir \" . xxmaj ron xxmaj xxunk was hot and very funny ! xxmaj although it was underrated and disowned by xxup mad , i have to say that this little gem will always be a treasure of mine and a movie that i would take with me if sent to a deserted island ! i only wish that someone would release the xxup dvd because my xxup vhs tape is about worn out ! xxmaj if you like xxunk out comedy , this is definitely for you and should be considered a cult classic ! xxmaj it is military humor at it 's best and worse ! xxmaj rent it if you ca n't own it !,xxbos whomever thought of having sequels to xxmaj iron xxmaj eagle must be shot . xxmaj in this case once was enough . xxmaj iron xxmaj eagle was a good movie to watch . xxmaj even though it is unrealistic , it is still entertaining . xxmaj iron xxmaj eagle xxup ii has a senseless plot and can be used to as a cure to insomnia . i did n't even bother to watch xxmaj iron xxmaj eagle xxup iii , but from looking at the r rating , i assume it 's more violent than the past 2 movies . xxmaj well , xxmaj iron xxmaj eagle xxup iv is probably the most inane sequel . xxmaj lou xxmaj xxunk xxmaj jr. returns as the always delightful \" xxmaj xxunk \" xxmaj sinclair . xxmaj another xxmaj jason returns to fill the role of xxmaj doug xxmaj masters ( xxmaj canadian xxmaj jason xxmaj xxunk , who looks just like xxmaj jason xxmaj xxunk from the first xxmaj iron xxmaj eagle ) . xxmaj but xxunk comes a possible spoiler ) xxrep 5 . xxmaj was n't xxmaj doug killed in xxmaj iron xxmaj eagle xxup ii ? xxmaj the writers must 've been xxunk for a story so they revived xxmaj doug xxmaj masters by saying he was a prisoner of the xxmaj russians . xxmaj this movie was the cheapest done of all the xxmaj iron xxmaj eagle films . xxmaj why do movie makers find it xxunk to make sequels to unappealing movies ? ( ex . xxmaj police xxmaj academy movies ) . i have always liked xxmaj xxunk xxmaj jr. 's work in these films . xxmaj he was the only one holding this turkey together . xxmaj let 's hope this was the last of the xxmaj iron xxmaj eagle sequels . let it rest in peace .,xxbos i know it 's hard for you xxmaj americans to find xxmaj european films on video / xxup dvd , particularly from the 80 's but please seek out the original version of the xxmaj vanishing - title xxmaj spoorloos ( 1988 ) - and you 'll see why the xxmaj hollywood version of xxmaj the xxmaj vanishing screws up xxunk , particularly at the finale . \n",
              " \n",
              "  i really like xxmaj sandra xxmaj bullock , xxmaj kiefer xxmaj sutherland and particularly xxmaj jeff xxmaj bridges , but this is just so so lame compared with the original . xxmaj what where they thinking ? xxmaj can you imagine xxmaj seven with a happy ending with xxmaj gwyneth xxmaj paltrow running happily into the arms of xxmaj brad xxmaj pitt in the finale ? xxmaj the whole point the original was such a major international success was because of the shocking finale . xxmaj so why do you accept this kind of xxunk remake ? xxmaj really , avoid this and xxup get xxup the xxup original .,xxbos xxmaj we all have seen some unending epics in our times , but this one really tops them all ! xxmaj the movie is so long and so slow , that , just to put things in perspective , i felt a lot older when i left movie hall , than i entered it . xxmaj at almost 4 hours length , it could have rather been made into a tele - serial . \n",
              " \n",
              "  xxmaj what starts as a promising comedy slowly loses its pace . xxmaj nikhil advani has woven the plot around 6 love stories and he ca nt make justice to any one of them ... xxmaj there is no xxunk between them to start with , and links shown in last 20 minutes just seem to be forced to connect the story . \n",
              " \n",
              "  xxmaj situation is made worse by xxmaj silly dialogues ( most of them repeated in xxmaj hindi cinema over xxunk stupid cinematography . \n",
              " \n",
              "  xxmaj priyanka does n't realise that she actually needs to play her role rather than just looking xxunk on screen ... xxmaj an utter waste of beauty without acting skills . \n",
              " \n",
              "  xxmaj and then there is loud - is - humorous xxmaj govinda & my - face - twists - better - than - jim - carrey xxmaj akshay xxmaj khanna who keep belching at the top of their lungs to xxunk already tired viewers . \n",
              " \n",
              "  xxmaj only good part in movie is xxmaj john & xxmaj xxunk 's love story & nice acting / comedy by xxunk & xxmaj xxunk . xxmaj but they are so good at their roles that just these two couples could have justified the movie without xxunk it with other bunch of characters . xxmaj their brilliance gets lost in the midst of other xxunk plot lines . \n",
              " \n",
              "  xxmaj my guess - xxmaj director was making two separate xxunk be more ! ) and some beginner assistant mixed up all the records , beyond a point of xxunk them out , so director was left with no choice to show it all as a single movie ... \n",
              " \n",
              "  xxmaj watch it only if you want to test your patience ! ! !\n",
              "y: CategoryList\n",
              "positive,positive,negative,negative,negative\n",
              "Path: .;\n",
              "\n",
              "Test: None, model=SequentialRNN(\n",
              "  (0): MultiBatchEncoder(\n",
              "    (module): AWD_LSTM(\n",
              "      (encoder): Embedding(23584, 400, padding_idx=1)\n",
              "      (encoder_dp): EmbeddingDropout(\n",
              "        (emb): Embedding(23584, 400, padding_idx=1)\n",
              "      )\n",
              "      (rnns): ModuleList(\n",
              "        (0): WeightDropout(\n",
              "          (module): LSTM(400, 1152, batch_first=True)\n",
              "        )\n",
              "        (1): WeightDropout(\n",
              "          (module): LSTM(1152, 1152, batch_first=True)\n",
              "        )\n",
              "        (2): WeightDropout(\n",
              "          (module): LSTM(1152, 400, batch_first=True)\n",
              "        )\n",
              "      )\n",
              "      (input_dp): RNNDropout()\n",
              "      (hidden_dps): ModuleList(\n",
              "        (0): RNNDropout()\n",
              "        (1): RNNDropout()\n",
              "        (2): RNNDropout()\n",
              "      )\n",
              "    )\n",
              "  )\n",
              "  (1): PoolingLinearClassifier(\n",
              "    (layers): Sequential(\n",
              "      (0): BatchNorm1d(1200, eps=1e-05, momentum=0.1, affine=True, track_running_stats=True)\n",
              "      (1): Dropout(p=0.2, inplace=False)\n",
              "      (2): Linear(in_features=1200, out_features=50, bias=True)\n",
              "      (3): ReLU(inplace=True)\n",
              "      (4): BatchNorm1d(50, eps=1e-05, momentum=0.1, affine=True, track_running_stats=True)\n",
              "      (5): Dropout(p=0.1, inplace=False)\n",
              "      (6): Linear(in_features=50, out_features=2, bias=True)\n",
              "    )\n",
              "  )\n",
              "), opt_func=functools.partial(<class 'torch.optim.adam.Adam'>, betas=(0.9, 0.99)), loss_func=FlattenedLoss of CrossEntropyLoss(), metrics=[<function accuracy at 0x7f894c46e510>], true_wd=True, bn_wd=True, wd=0.01, train_bn=True, path=PosixPath('.'), model_dir='models', callback_fns=[functools.partial(<class 'fastai.basic_train.Recorder'>, add_time=True, silent=False)], callbacks=[RNNTrainer\n",
              "learn: RNNLearner(data=TextClasDataBunch;\n",
              "\n",
              "Train: LabelList (5000 items)\n",
              "x: TextList\n",
              "xxbos \" xxmaj the xxmaj violent xxmaj men \" marked the finest collaboration of xxmaj rudolph xxmaj xxunk with xxmaj glenn xxmaj ford in an intensely satisfying drama of rugged primitive justice \n",
              " \n",
              " \n",
              "  xxmaj ford is xxmaj john xxmaj parrish , a former xxmaj cavalry captain who is xxunk to get married and start a new life \n",
              "  xxmaj his fiancée xxmaj caroline xxmaj xxunk ( xxmaj may xxmaj wynn ) is desperate to move east , and to see him selling his spread to xxmaj lee xxmaj wilkison ( xxmaj edward xxup g. xxmaj robinson ) . \n",
              " \n",
              "  xxmaj parrish is not even much of a xxunk \n",
              "  but he do understand that there is something big building up in the valley \n",
              "  xxmaj in the xxmaj army , they used to call it ' enemy pressure . ' xxmaj first , xxmaj cole xxmaj wilkison ( xxmaj brian xxmaj keith ) comes back from xxmaj texas to help his brother run xxmaj anchor \n",
              "  xxmaj then a tough kid with a fancy gun ( xxmaj richard xxmaj jaeckel ) shows up on the xxmaj wilkison payroll \n",
              "  xxmaj then all the small ranchers are forced out , getting the same kind of offers \n",
              "  xxmaj parrish saw himself either running like they did , or stand and fight \n",
              " \n",
              " \n",
              "  xxmaj but can he easily deals with a man who sends six killers to shoot an old man in the back ? xxmaj can he easily argues with a man who started with a few acres of land and now owns practically the whole valley ? \n",
              " \n",
              "  xxmaj all that grass and sand ever meant to the ex - xxmaj confederate xxmaj army officer the past three years \n",
              "  xxmaj it was a place to regain his health \n",
              "  xxmaj out of habit of taking advice , xxmaj parrish xxunk : \" xxmaj what happen in this valley is no concern of mine . \" xxmaj and much to the disappointment of the remaining ranchers and farmers , who pressure him to stay on , he decides to accept xxmaj wilkison 's offer to fulfill the promise he made to his fiancée \n",
              " \n",
              " \n",
              "  xxmaj when xxmaj lee 's younger brother xxmaj cole made the wrong move , trying to push xxmaj parrish make up his mind by lynching one of his ranch hands , xxmaj parrish got mad and warns the two brothers that he is going to stay and will fight them for the privilege of being let alone \n",
              " \n",
              " \n",
              "  xxmaj brian xxmaj keith plays the traitorous brother who 's behind the killing ... xxmaj he dreams to have position and respect in running one day xxmaj anchor \n",
              " \n",
              " \n",
              "  xxmaj lee 's ambitious wife xxmaj martha ( xxmaj barbara xxmaj stanwyck ) secretly hates herself and her husband \n",
              "  xxmaj stanwyck plays the part of a loving wife who ca n't bear the touch of her husband 's hands \n",
              " \n",
              " \n",
              "  xxmaj edward xxup g. xxmaj robinson is good enough as the xxmaj anchor 's crippled owner who promised the whole valley to his wife , unaware that she is having an affair with his younger brother \n",
              " \n",
              " \n",
              "  xxmaj dianne xxmaj foster is too sensitive as the xxunk adult daughter well aware of her mother 's burdens \n",
              " \n",
              " \n",
              "  \" xxmaj the xxmaj violent xxmaj men \" uses the wide - screen technology to emphasize the scope and power of this harrowing action - drama , making it a perfect example of the genre 's most enduring classics \n",
              ",xxbos xxmaj plants in an ancient xxmaj mayan pyramid structure killing all who come close . xxmaj yes it is weird , as the travelers do not figure it out until everything starts doing crazy . xxmaj and in a movie like this , i just wished it went absurd and had marching bands being attacked by plants wielding xxunk . \n",
              " \n",
              "  xxmaj anyway , a group of people from xxmaj america vacation and go into the mountains with a couple of other newly made xxmaj german friends who know about the place . xxmaj when they get there , xxmaj mayans began shouting at them and hide on the structure . xxmaj and when there , that s when the plants decide to take them out , mimicking cell phone noises , humans , and ancient xxmaj mayan dead people . \n",
              " \n",
              "  xxmaj nothing was really scary about the movie and was not even entertaining . xxmaj not even the weird ending could save this piece of crap . i kept looking for something really good to happen , but nothing . xxmaj oh well . \" f \",xxbos xxmaj true , there are many movies much worse then this movie . xxmaj this movie was no xxmaj manos : xxmaj the xxmaj hands of xxmaj fate , or xxmaj troll 2 ( yes , i have seen them both .. twice ) but at the same time this movie is xxmaj no xxmaj alien , xxmaj predator or even xxmaj alien xxmaj vs . xxmaj predator ( xxmaj yes , even that movie surpassed this ) . xxmaj movies like this make xxmaj battlefield xxmaj earth look like a xxmaj star xxmaj wars it is so bad . xxmaj razzie awards lookout , your biggest competition has just arrived in theaters . xxmaj this film i 'm talking about is of course xxmaj alone in the xxmaj dark . i 'll try to take you though a step by step process on why this film was so bad . \n",
              " \n",
              "  xxmaj acting- i 'll first start off with what perhaps was the best xxunk of this film ( next to the ending credits , which played ' xxmaj wish i had xxmaj an xxmaj angel ' , the acting . xxmaj christian xxmaj slater must be proud of himself , he successfully proved that it is possible to act decent in a film worse then drinking xxunk . xxmaj though all his awful dialog he had to speak , it made me wonder why he just did n't walk off the set halfway . xxmaj perhaps it was because of xxmaj stephen xxmaj dorff being in the film as well ( somebody he wishes he could be but fails at it ) . xxmaj tara xxmaj reid is a bad actress but good looking and that 's all that really matters in films like these . xxmaj that is not to say the acting was perfect though , it was average , not good , and perhaps the only thing in the film not good . \n",
              " \n",
              "  xxmaj the xxmaj xxunk xxmaj except for ' xxmaj wish i had xxmaj an xxmaj angel ' , the soundtrack is pointless and bad heavy medal being pumped into the viewers ears , perhaps to disguise the awful story ( something i will get to soon ) . a long and very expensive 2 xxup cd soundtrack is now up for sale for those musically challenged . \n",
              " \n",
              "  xxmaj the xxmaj xxunk xxmaj directed by xxmaj hollywoods favorite director xxmaj uwe xxmaj ball who brought us the classic xxmaj house of the xxmaj dead . xxmaj telling us \" xxmaj yes , movies can get this utterly bad and that 's just the beginning to my deadly saga of awful movies \" . xxmaj at least it is said to be directed by xxmaj uwe xxmaj ball . xxmaj without being told i would have guessed a monkey was kidnapped from the xxmaj congo , brought here and forced to make opinions on how to make the movie under penalty of being shocked . xxmaj the director of photography was probably a camcorder taped onto a skateboard and pushed forward until it hits a wall . xxmaj on the scenes where the camera should stay still it is constantly moving , not allowing us to stop anywhere and when it should be moving in action , the camera stops for some reason . \n",
              " \n",
              "  xxmaj the xxmaj xxunk xxmaj who on earth is stupid enough to put money towards this bomb ? i pity the fool ... sometimes . xxmaj sometimes i 'm glad he or she was taught such a lesson to never put money towards garbage worse then dog dung tied up in a bag . \n",
              " \n",
              "  xxmaj the xxmaj writing / xxmaj xxunk xxmaj trying to xxmaj xxunk the story is more painful then jamming an ice pick under a big toe and kicking a soccer ball as hard as i possibly could with it right after but i will still attempt it . \n",
              " \n",
              "  xxmaj edward xxmaj carnby escapes as a child from an orphanage where 20 children where to go under science experiments . xxmaj he escapes and hides in an electrical outlet where he is electrocuted ( this is the point where it got so bad i started to laugh out loud ) . xxmaj then it fast - forwards many years later where he 's a paranoia detective . xxmaj he get 's attacked by some zombie that ca n't be shot to death , kills it and moves on with life . xxmaj later on he gets attacked by some crazy looking monster and he discovers secrets that nobody else knows . \n",
              " \n",
              "  xxmaj yeah , the plot is bad , really really bad . xxmaj the film beings with expecting us to read approximately 10 minutes , which felt like 100 , of random text about an untrue civilization called the xxmaj xxunk . xxmaj the film goes not to have one twist after another , more then the audience can handle , more then the audience wants to handle , more then the audience could ever care about . xxmaj this storyline is rock bottom bad that even xxmaj double xxmaj dragon does better . \n",
              " \n",
              "  xxmaj overall , miss out on this movie . i gave it a 1 out of 10 but that is because there is no 0 .,xxbos xxmaj geoffrey xxmaj wright , the director of \" xxmaj romper xxmaj stomper \" , transplants xxmaj shakespeare 's \" xxmaj macbeth \" in the contemporary , criminal underworld of xxmaj melbourne , xxmaj australia . xxmaj the result is a semi - awful piece of cinema . xxmaj sam xxmaj xxunk is xxmaj macbeth , and walks around looking very self - conscious and bored . xxmaj victoria xxmaj hill , who wrote the script with xxmaj wright , is xxmaj lady xxmaj macbeth , and she 's neither awful nor good . xxmaj xxunk xxmaj xxunk , who plays xxunk , is the only actor in the cast who exudes any kind of authority . xxmaj the rest , including xxmaj gary xxmaj sweet , are wasted and misdirected . xxmaj shot on xxup hd by the late xxmaj will xxmaj gibson , the movie 's visuals lack character . xxmaj everything is too clean and too deliberately lit . xxmaj wright 's direction is uninspired in the extreme and the action sequences are confusing and inept . xxmaj marketed xxunk as \" the most violent xxmaj australia movie ever \" , the film is violent at times and reasonably bloody , but it fails to deliver a single impactful moment . xxmaj slow moving and terribly pretentious , this umpteenth silver screen version of the classic play is the personification of wrong - headed .,xxbos xxmaj putting the xxup ufo \" thing \" aside . xxmaj this was the best documentary i 've seen . xxmaj factual reporting by xxmaj neil and xxmaj buzz ... a must see . xxmaj the interviews and reporting are a revelation since most of the information was stamped confidential in 1969 and only released in 2006 . xxmaj no documentary to date has the detail or accuracy for such a brief 47 minutes ... xxmaj the xxup facts will blow you away , and you will be left in awe of the risks taken to be the first on the moon ... xxmaj neil and xxmaj buzz are probably the biggest hero 's of our time . xxmaj ever see a man save his own life ? xxmaj bet not . xxmaj neil saves his life when only mili - seconds separated him from death . xxmaj amazing to watch . xxmaj it is a travesty people have not known all the details xxunk with landing on the moon and the courage those men had when facing certain death , from a failing computer ... 10 stars !\n",
              "y: CategoryList\n",
              "positive,negative,negative,negative,positive\n",
              "Path: .;\n",
              "\n",
              "Valid: LabelList (3000 items)\n",
              "x: TextList\n",
              "xxbos i must admit a slight disappointment with this film ; i had read a lot about how spectacular it was , yet the actual futuristic sequences , the xxmaj age of xxmaj science , take up a very small amount of the film . xxmaj the sets and are excellent when we get to them , and there are some startling images , but this final sequence is lacking in too many other regards ... \n",
              " \n",
              "  xxmaj much the best drama of the piece is in the mid - section , and then it plays as melodrama , arising from the ' high concept ' science - fiction nature of it all , and xxunk robust dialogue . xxmaj there is far more human life in this part though , with the great xxmaj ralph xxmaj richardson sailing gloriously over - the - top as the small dictator , the \" xxmaj boss \" of the xxmaj xxunk . i loved xxmaj richardson 's mannerisms and curt delivery of lines , xxunk the presence and ideas of xxmaj raymond xxmaj massey 's aloof , confident visitor . xxmaj this xxmaj boss is a posturing , convincingly deluded figure , unable to realise the small - fry nature of his kingdom ... xxmaj it 's not a great role , yet xxmaj richardson makes a lot of it . \n",
              " \n",
              "  xxmaj xxunk itself is presumably meant to be xxmaj england , or at least an xxmaj english town fairly representative of xxmaj england . xxmaj interesting was the complete xxunk of any religious side to things ; the ' things to come ' seem to revolve around a conflict between xxunk xxunk and a a faith in science that seems to have little ultimate goal , but to just go on and on . xxmaj there is a belated attempt to raise some arguments and tensions in the last section , concerning more personal ' life ' , yet one is left quite unsatisfied . xxmaj the film has n't got much interest in subtle complexities ; it goes for xxunk spectacle and unsubtle , blunt xxunk , every time . xxmaj and , of course , recall the xxunk - bet finale : xxmaj raymond xxmaj massey xxunk lyrical about how uncertain things are ! \n",
              " \n",
              "  xxmaj concerning the question of the film being a xxunk : i must say it 's not at all bad as such , considering that one obviously allows that it is impossible to gets the details of life anything like right . xxmaj the xxunk xxunk have something to them ; a war in 1940 , well that was perhaps predictable ... xxmaj lasting nearly 30 years , mind ! ? a nuclear bomb - the \" super gun \" or some such xxunk - in 2036 ... a xxunk socialist \" we do n't believe in independent nation xxunk government , in xxmaj britain , after 1970 ... xxmaj hmmm , sadly nowhere near on that one , chaps ! ;-) xxmaj no real politics are gone into here which is a shame ; all that surfaces is a very laudable anti - war sentiment . xxmaj generally , it is assumed that dictatorship - whether xxunk - xxunk - fascist , as under the xxmaj boss , or all - hands - to - the - pump scientific socialism - will * be the deal * , and these implications are not xxunk ... xxmaj while we must remember that in 1936 , there was no knowledge at all of how xxmaj nazism and xxmaj communism would turn out - or even how they were turning out - the lack of consideration of this seems xxunk beside the scope of the filmmakers ' vision on other matters . \n",
              " \n",
              "  xxmaj much of the earlier stuff should - and could - have been cut in my opinion ; only the briefest stuff from ' 1940 ' would have been necessary , yet this segment tends to get rather ponderous , and it is ages before we get to the xxmaj richardson - xxmaj massey parts . i would have liked to have seen more done with xxmaj xxunk xxmaj scott ; who is just a trifle sceptical , cutting a flashing - eyed xxmaj mediterranean figure to negligible purpose . xxmaj the character is not explored , or frankly explained or exploited , except for one scene which i shall not spoil , and her relationship with the xxmaj boss is n't explored ; but then this was the 1930s , and there was such a thing as widespread xxunk censorship back then . xxmaj edward xxmaj chapman is mildly amusing in his two roles ; more so in the first as a hapless chap , praying for war , only to be bluntly put down by another xxmaj massey character . xxmaj massey himself helps things a lot , playing his parts with a mixture of restraint and sombre gusto , contrasting well with a largely xxunk cast , save for xxmaj richardson , and xxmaj scott and xxmaj chapman , slightly . \n",
              " \n",
              "  i would say that \" xxmaj things to xxmaj come \" is undoubtedly a very extraordinary film to have been made in xxmaj britain in 1936 ; one of the few serious xxmaj british science fiction films to date , indeed ! xxmaj its set ( piece ) design and xxunk of resources are ravenous , marvellous . \n",
              " \n",
              "  xxmaj yet , the script is ultimately over - earnest and , at times , all over the place . xxmaj the direction is prone to a xxunk , though it does step up a scenic gear or two upon occasion . xxmaj the cinematographer and xxmaj mr xxmaj richardson really do salvage things however ; respectively creating an awed sense of wonder at technology , and an engaging , jerky performance that consistently xxunk . xxmaj such a shame there is so little substance or real filmic conception to the whole thing ; xxmaj powell and xxmaj xxunk would have been the perfect directors to take on such a task as this - they are without peer among xxmaj british directors as daring visual xxunk , great xxunk of characters and dealers in dialogue of the first rate . \n",
              " \n",
              "  \" xxmaj things to xxmaj come \" , as it stands , is an intriguing oddity , well worth perusing , yet far short of a \" xxmaj metropolis \" ... ' xxmaj xxunk much as \" silly \" , in xxmaj wells ' words , as that xxmaj lang film , yet with nothing like the astonishing force of it .,xxbos i xxup loved this flick when it came out in the 80 's and still do ! i still quote classic lines like \" say it again \" and \" you said you 'd rip my balls off sir \" . xxmaj ron xxmaj xxunk was hot and very funny ! xxmaj although it was underrated and disowned by xxup mad , i have to say that this little gem will always be a treasure of mine and a movie that i would take with me if sent to a deserted island ! i only wish that someone would release the xxup dvd because my xxup vhs tape is about worn out ! xxmaj if you like xxunk out comedy , this is definitely for you and should be considered a cult classic ! xxmaj it is military humor at it 's best and worse ! xxmaj rent it if you ca n't own it !,xxbos whomever thought of having sequels to xxmaj iron xxmaj eagle must be shot . xxmaj in this case once was enough . xxmaj iron xxmaj eagle was a good movie to watch . xxmaj even though it is unrealistic , it is still entertaining . xxmaj iron xxmaj eagle xxup ii has a senseless plot and can be used to as a cure to insomnia . i did n't even bother to watch xxmaj iron xxmaj eagle xxup iii , but from looking at the r rating , i assume it 's more violent than the past 2 movies . xxmaj well , xxmaj iron xxmaj eagle xxup iv is probably the most inane sequel . xxmaj lou xxmaj xxunk xxmaj jr. returns as the always delightful \" xxmaj xxunk \" xxmaj sinclair . xxmaj another xxmaj jason returns to fill the role of xxmaj doug xxmaj masters ( xxmaj canadian xxmaj jason xxmaj xxunk , who looks just like xxmaj jason xxmaj xxunk from the first xxmaj iron xxmaj eagle ) . xxmaj but xxunk comes a possible spoiler ) xxrep 5 . xxmaj was n't xxmaj doug killed in xxmaj iron xxmaj eagle xxup ii ? xxmaj the writers must 've been xxunk for a story so they revived xxmaj doug xxmaj masters by saying he was a prisoner of the xxmaj russians . xxmaj this movie was the cheapest done of all the xxmaj iron xxmaj eagle films . xxmaj why do movie makers find it xxunk to make sequels to unappealing movies ? ( ex . xxmaj police xxmaj academy movies ) . i have always liked xxmaj xxunk xxmaj jr. 's work in these films . xxmaj he was the only one holding this turkey together . xxmaj let 's hope this was the last of the xxmaj iron xxmaj eagle sequels . let it rest in peace .,xxbos i know it 's hard for you xxmaj americans to find xxmaj european films on video / xxup dvd , particularly from the 80 's but please seek out the original version of the xxmaj vanishing - title xxmaj spoorloos ( 1988 ) - and you 'll see why the xxmaj hollywood version of xxmaj the xxmaj vanishing screws up xxunk , particularly at the finale . \n",
              " \n",
              "  i really like xxmaj sandra xxmaj bullock , xxmaj kiefer xxmaj sutherland and particularly xxmaj jeff xxmaj bridges , but this is just so so lame compared with the original . xxmaj what where they thinking ? xxmaj can you imagine xxmaj seven with a happy ending with xxmaj gwyneth xxmaj paltrow running happily into the arms of xxmaj brad xxmaj pitt in the finale ? xxmaj the whole point the original was such a major international success was because of the shocking finale . xxmaj so why do you accept this kind of xxunk remake ? xxmaj really , avoid this and xxup get xxup the xxup original .,xxbos xxmaj we all have seen some unending epics in our times , but this one really tops them all ! xxmaj the movie is so long and so slow , that , just to put things in perspective , i felt a lot older when i left movie hall , than i entered it . xxmaj at almost 4 hours length , it could have rather been made into a tele - serial . \n",
              " \n",
              "  xxmaj what starts as a promising comedy slowly loses its pace . xxmaj nikhil advani has woven the plot around 6 love stories and he ca nt make justice to any one of them ... xxmaj there is no xxunk between them to start with , and links shown in last 20 minutes just seem to be forced to connect the story . \n",
              " \n",
              "  xxmaj situation is made worse by xxmaj silly dialogues ( most of them repeated in xxmaj hindi cinema over xxunk stupid cinematography . \n",
              " \n",
              "  xxmaj priyanka does n't realise that she actually needs to play her role rather than just looking xxunk on screen ... xxmaj an utter waste of beauty without acting skills . \n",
              " \n",
              "  xxmaj and then there is loud - is - humorous xxmaj govinda & my - face - twists - better - than - jim - carrey xxmaj akshay xxmaj khanna who keep belching at the top of their lungs to xxunk already tired viewers . \n",
              " \n",
              "  xxmaj only good part in movie is xxmaj john & xxmaj xxunk 's love story & nice acting / comedy by xxunk & xxmaj xxunk . xxmaj but they are so good at their roles that just these two couples could have justified the movie without xxunk it with other bunch of characters . xxmaj their brilliance gets lost in the midst of other xxunk plot lines . \n",
              " \n",
              "  xxmaj my guess - xxmaj director was making two separate xxunk be more ! ) and some beginner assistant mixed up all the records , beyond a point of xxunk them out , so director was left with no choice to show it all as a single movie ... \n",
              " \n",
              "  xxmaj watch it only if you want to test your patience ! ! !\n",
              "y: CategoryList\n",
              "positive,positive,negative,negative,negative\n",
              "Path: .;\n",
              "\n",
              "Test: None, model=SequentialRNN(\n",
              "  (0): MultiBatchEncoder(\n",
              "    (module): AWD_LSTM(\n",
              "      (encoder): Embedding(23584, 400, padding_idx=1)\n",
              "      (encoder_dp): EmbeddingDropout(\n",
              "        (emb): Embedding(23584, 400, padding_idx=1)\n",
              "      )\n",
              "      (rnns): ModuleList(\n",
              "        (0): WeightDropout(\n",
              "          (module): LSTM(400, 1152, batch_first=True)\n",
              "        )\n",
              "        (1): WeightDropout(\n",
              "          (module): LSTM(1152, 1152, batch_first=True)\n",
              "        )\n",
              "        (2): WeightDropout(\n",
              "          (module): LSTM(1152, 400, batch_first=True)\n",
              "        )\n",
              "      )\n",
              "      (input_dp): RNNDropout()\n",
              "      (hidden_dps): ModuleList(\n",
              "        (0): RNNDropout()\n",
              "        (1): RNNDropout()\n",
              "        (2): RNNDropout()\n",
              "      )\n",
              "    )\n",
              "  )\n",
              "  (1): PoolingLinearClassifier(\n",
              "    (layers): Sequential(\n",
              "      (0): BatchNorm1d(1200, eps=1e-05, momentum=0.1, affine=True, track_running_stats=True)\n",
              "      (1): Dropout(p=0.2, inplace=False)\n",
              "      (2): Linear(in_features=1200, out_features=50, bias=True)\n",
              "      (3): ReLU(inplace=True)\n",
              "      (4): BatchNorm1d(50, eps=1e-05, momentum=0.1, affine=True, track_running_stats=True)\n",
              "      (5): Dropout(p=0.1, inplace=False)\n",
              "      (6): Linear(in_features=50, out_features=2, bias=True)\n",
              "    )\n",
              "  )\n",
              "), opt_func=functools.partial(<class 'torch.optim.adam.Adam'>, betas=(0.9, 0.99)), loss_func=FlattenedLoss of CrossEntropyLoss(), metrics=[<function accuracy at 0x7f894c46e510>], true_wd=True, bn_wd=True, wd=0.01, train_bn=True, path=PosixPath('.'), model_dir='models', callback_fns=[functools.partial(<class 'fastai.basic_train.Recorder'>, add_time=True, silent=False)], callbacks=[...], layer_groups=[Sequential(\n",
              "  (0): Embedding(23584, 400, padding_idx=1)\n",
              "  (1): EmbeddingDropout(\n",
              "    (emb): Embedding(23584, 400, padding_idx=1)\n",
              "  )\n",
              "), Sequential(\n",
              "  (0): WeightDropout(\n",
              "    (module): LSTM(400, 1152, batch_first=True)\n",
              "  )\n",
              "  (1): RNNDropout()\n",
              "), Sequential(\n",
              "  (0): WeightDropout(\n",
              "    (module): LSTM(1152, 1152, batch_first=True)\n",
              "  )\n",
              "  (1): RNNDropout()\n",
              "), Sequential(\n",
              "  (0): WeightDropout(\n",
              "    (module): LSTM(1152, 400, batch_first=True)\n",
              "  )\n",
              "  (1): RNNDropout()\n",
              "), Sequential(\n",
              "  (0): PoolingLinearClassifier(\n",
              "    (layers): Sequential(\n",
              "      (0): BatchNorm1d(1200, eps=1e-05, momentum=0.1, affine=True, track_running_stats=True)\n",
              "      (1): Dropout(p=0.2, inplace=False)\n",
              "      (2): Linear(in_features=1200, out_features=50, bias=True)\n",
              "      (3): ReLU(inplace=True)\n",
              "      (4): BatchNorm1d(50, eps=1e-05, momentum=0.1, affine=True, track_running_stats=True)\n",
              "      (5): Dropout(p=0.1, inplace=False)\n",
              "      (6): Linear(in_features=50, out_features=2, bias=True)\n",
              "    )\n",
              "  )\n",
              ")], add_time=True, silent=False)\n",
              "alpha: 2.0\n",
              "beta: 1.0], layer_groups=[Sequential(\n",
              "  (0): Embedding(23584, 400, padding_idx=1)\n",
              "  (1): EmbeddingDropout(\n",
              "    (emb): Embedding(23584, 400, padding_idx=1)\n",
              "  )\n",
              "), Sequential(\n",
              "  (0): WeightDropout(\n",
              "    (module): LSTM(400, 1152, batch_first=True)\n",
              "  )\n",
              "  (1): RNNDropout()\n",
              "), Sequential(\n",
              "  (0): WeightDropout(\n",
              "    (module): LSTM(1152, 1152, batch_first=True)\n",
              "  )\n",
              "  (1): RNNDropout()\n",
              "), Sequential(\n",
              "  (0): WeightDropout(\n",
              "    (module): LSTM(1152, 400, batch_first=True)\n",
              "  )\n",
              "  (1): RNNDropout()\n",
              "), Sequential(\n",
              "  (0): PoolingLinearClassifier(\n",
              "    (layers): Sequential(\n",
              "      (0): BatchNorm1d(1200, eps=1e-05, momentum=0.1, affine=True, track_running_stats=True)\n",
              "      (1): Dropout(p=0.2, inplace=False)\n",
              "      (2): Linear(in_features=1200, out_features=50, bias=True)\n",
              "      (3): ReLU(inplace=True)\n",
              "      (4): BatchNorm1d(50, eps=1e-05, momentum=0.1, affine=True, track_running_stats=True)\n",
              "      (5): Dropout(p=0.1, inplace=False)\n",
              "      (6): Linear(in_features=50, out_features=2, bias=True)\n",
              "    )\n",
              "  )\n",
              ")], add_time=True, silent=False)"
            ]
          },
          "metadata": {
            "tags": []
          },
          "execution_count": 24
        }
      ]
    },
    {
      "cell_type": "code",
      "metadata": {
        "id": "cnPCgdIlscXL",
        "colab_type": "code",
        "outputId": "7e5b947d-d6b6-4edb-f15b-94d0b526c111",
        "colab": {
          "base_uri": "https://localhost:8080/",
          "height": 112
        }
      },
      "source": [
        "\n",
        "\n",
        "classifier.lr_find()"
      ],
      "execution_count": 0,
      "outputs": [
        {
          "output_type": "display_data",
          "data": {
            "text/html": [
              "\n",
              "    <div>\n",
              "        <style>\n",
              "            /* Turns off some styling */\n",
              "            progress {\n",
              "                /* gets rid of default border in Firefox and Opera. */\n",
              "                border: none;\n",
              "                /* Needs to be in here for Safari polyfill so background images work as expected. */\n",
              "                background-size: auto;\n",
              "            }\n",
              "            .progress-bar-interrupted, .progress-bar-interrupted::-webkit-progress-bar {\n",
              "                background: #F44336;\n",
              "            }\n",
              "        </style>\n",
              "      <progress value='0' class='' max='1' style='width:300px; height:20px; vertical-align: middle;'></progress>\n",
              "      0.00% [0/1 00:00<00:00]\n",
              "    </div>\n",
              "    \n",
              "<table border=\"1\" class=\"dataframe\">\n",
              "  <thead>\n",
              "    <tr style=\"text-align: left;\">\n",
              "      <th>epoch</th>\n",
              "      <th>train_loss</th>\n",
              "      <th>valid_loss</th>\n",
              "      <th>accuracy</th>\n",
              "      <th>time</th>\n",
              "    </tr>\n",
              "  </thead>\n",
              "  <tbody>\n",
              "  </tbody>\n",
              "</table><p>\n",
              "\n",
              "    <div>\n",
              "        <style>\n",
              "            /* Turns off some styling */\n",
              "            progress {\n",
              "                /* gets rid of default border in Firefox and Opera. */\n",
              "                border: none;\n",
              "                /* Needs to be in here for Safari polyfill so background images work as expected. */\n",
              "                background-size: auto;\n",
              "            }\n",
              "            .progress-bar-interrupted, .progress-bar-interrupted::-webkit-progress-bar {\n",
              "                background: #F44336;\n",
              "            }\n",
              "        </style>\n",
              "      <progress value='94' class='' max='156' style='width:300px; height:20px; vertical-align: middle;'></progress>\n",
              "      60.26% [94/156 00:50<00:33 1.5496]\n",
              "    </div>\n",
              "    "
            ],
            "text/plain": [
              "<IPython.core.display.HTML object>"
            ]
          },
          "metadata": {
            "tags": []
          }
        },
        {
          "output_type": "stream",
          "text": [
            "LR Finder is complete, type {learner_name}.recorder.plot() to see the graph.\n"
          ],
          "name": "stdout"
        }
      ]
    },
    {
      "cell_type": "code",
      "metadata": {
        "id": "ABlPhFsXssU9",
        "colab_type": "code",
        "outputId": "0854c7a0-7d29-49bf-f0e1-9a40d38eb9ba",
        "colab": {
          "base_uri": "https://localhost:8080/",
          "height": 80
        }
      },
      "source": [
        "classifier.fit_one_cycle(1, 1e-1, moms=(0.8,0.7))"
      ],
      "execution_count": 0,
      "outputs": [
        {
          "output_type": "display_data",
          "data": {
            "text/html": [
              "<table border=\"1\" class=\"dataframe\">\n",
              "  <thead>\n",
              "    <tr style=\"text-align: left;\">\n",
              "      <th>epoch</th>\n",
              "      <th>train_loss</th>\n",
              "      <th>valid_loss</th>\n",
              "      <th>accuracy</th>\n",
              "      <th>time</th>\n",
              "    </tr>\n",
              "  </thead>\n",
              "  <tbody>\n",
              "    <tr>\n",
              "      <td>0</td>\n",
              "      <td>0.434436</td>\n",
              "      <td>0.350989</td>\n",
              "      <td>0.845667</td>\n",
              "      <td>02:20</td>\n",
              "    </tr>\n",
              "  </tbody>\n",
              "</table>"
            ],
            "text/plain": [
              "<IPython.core.display.HTML object>"
            ]
          },
          "metadata": {
            "tags": []
          }
        }
      ]
    },
    {
      "cell_type": "code",
      "metadata": {
        "id": "2mGB3wJh5SC8",
        "colab_type": "code",
        "outputId": "a574e069-51b3-47eb-b918-e4476fd96a99",
        "colab": {
          "base_uri": "https://localhost:8080/",
          "height": 279
        }
      },
      "source": [
        "classifier.recorder.plot_losses()"
      ],
      "execution_count": 0,
      "outputs": [
        {
          "output_type": "display_data",
          "data": {
            "image/png": "[encoded data removed]",
            "text/plain": [
              "<Figure size 432x288 with 1 Axes>"
            ]
          },
          "metadata": {
            "tags": [],
            "needs_background": "light"
          }
        }
      ]
    },
    {
      "cell_type": "code",
      "metadata": {
        "id": "RDQg46Dl49br",
        "colab_type": "code",
        "outputId": "48eb5fc4-8d90-4e23-fa26-3c49ecf3256b",
        "colab": {
          "base_uri": "https://localhost:8080/",
          "height": 34
        }
      },
      "source": [
        "classifier.save(\"trained_model\", return_path=True)"
      ],
      "execution_count": 0,
      "outputs": [
        {
          "output_type": "execute_result",
          "data": {
            "text/plain": [
              "PosixPath('models/trained_model.pth')"
            ]
          },
          "metadata": {
            "tags": []
          },
          "execution_count": 28
        }
      ]
    },
    {
      "cell_type": "code",
      "metadata": {
        "id": "1FXN6ist5Qad",
        "colab_type": "code",
        "colab": {}
      },
      "source": [
        "classifier.export(\"trained-model.pkl\")"
      ],
      "execution_count": 0,
      "outputs": []
    },
    {
      "cell_type": "code",
      "metadata": {
        "id": "aWsGg1Fk5cxe",
        "colab_type": "code",
        "outputId": "23bb3f06-e5aa-4055-e563-bf5ecf1d6f1d",
        "colab": {
          "base_uri": "https://localhost:8080/",
          "height": 34
        }
      },
      "source": [
        "classifier.predict(\"The Google Pixel 4 is the worst phone ever released\")"
      ],
      "execution_count": 0,
      "outputs": [
        {
          "output_type": "execute_result",
          "data": {
            "text/plain": [
              "(Category tensor(0), tensor(0), tensor([0.9286, 0.0714]))"
            ]
          },
          "metadata": {
            "tags": []
          },
          "execution_count": 36
        }
      ]
    },
    {
      "cell_type": "code",
      "metadata": {
        "id": "6thwIFjv5gMW",
        "colab_type": "code",
        "outputId": "966c616c-5f4c-4aef-ac90-268d0422385c",
        "colab": {
          "base_uri": "https://localhost:8080/",
          "height": 17
        }
      },
      "source": [
        "\n",
        "reloaded=load_learner(\"/content\",\"trained-model.pkl\")"
      ],
      "execution_count": 0,
      "outputs": [
        {
          "output_type": "display_data",
          "data": {
            "text/html": [
              ""
            ],
            "text/plain": [
              "<IPython.core.display.HTML object>"
            ]
          },
          "metadata": {
            "tags": []
          }
        },
        {
          "output_type": "display_data",
          "data": {
            "text/html": [
              ""
            ],
            "text/plain": [
              "<IPython.core.display.HTML object>"
            ]
          },
          "metadata": {
            "tags": []
          }
        }
      ]
    },
    {
      "cell_type": "code",
      "metadata": {
        "id": "G9Y8uKhR5pBE",
        "colab_type": "code",
        "colab": {}
      },
      "source": [
        "x= reloaded.predict(\"The Google Pixel 4 has an excellent battery life, It also has a large screen that is notch less and gives user an amazing experience!\")"
      ],
      "execution_count": 0,
      "outputs": []
    },
    {
      "cell_type": "code",
      "metadata": {
        "id": "PUe7_9RV6Deq",
        "colab_type": "code",
        "outputId": "60120d5e-d738-42d2-f426-addfcbb448c9",
        "colab": {
          "base_uri": "https://localhost:8080/",
          "height": 34
        }
      },
      "source": [
        "print(x[2][1].item())\n"
      ],
      "execution_count": 0,
      "outputs": [
        {
          "output_type": "stream",
          "text": [
            "0.9984397292137146\n"
          ],
          "name": "stdout"
        }
      ]
    }
  ]
}